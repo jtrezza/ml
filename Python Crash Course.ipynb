{
 "cells": [
  {
   "cell_type": "code",
   "execution_count": 3,
   "id": "useful-cylinder",
   "metadata": {},
   "outputs": [
    {
     "name": "stdout",
     "output_type": "stream",
     "text": [
      "Hello, world!\n",
      "Hello again, world!\n"
     ]
    }
   ],
   "source": [
    "# Format string or 'f' string\n",
    "a = 'Hello'\n",
    "b = 'world'\n",
    "f_string = f'{a}, {b}!'\n",
    "f_string_d = f\"{a} again, {b}!\"\n",
    "print(f_string)\n",
    "print(f_string_d)"
   ]
  },
  {
   "cell_type": "code",
   "execution_count": 6,
   "id": "parliamentary-editing",
   "metadata": {},
   "outputs": [
    {
     "name": "stdout",
     "output_type": "stream",
     "text": [
      "Can't divide by Zero!\n"
     ]
    }
   ],
   "source": [
    "# 'except' instead of 'catch'\n",
    "try:\n",
    "    print(0/0)\n",
    "except ZeroDivisionError:\n",
    "    print(\"Can't divide by Zero!\")"
   ]
  },
  {
   "cell_type": "code",
   "execution_count": 7,
   "id": "super-branch",
   "metadata": {},
   "outputs": [
    {
     "name": "stdout",
     "output_type": "stream",
     "text": [
      "[1, 2, 3, 4, 5, 6]\n"
     ]
    }
   ],
   "source": [
    "# Modify a list in place\n",
    "x = [1, 2, 3]\n",
    "x.extend([4, 5, 6])\n",
    "print(x)"
   ]
  },
  {
   "cell_type": "code",
   "execution_count": 8,
   "id": "human-guide",
   "metadata": {},
   "outputs": [
    {
     "name": "stdout",
     "output_type": "stream",
     "text": [
      "[1, 2, 3, 4, 5, 6]\n"
     ]
    }
   ],
   "source": [
    "# If you don't want to modify, use addition\n",
    "x = [1, 2, 3]\n",
    "y = x + [4, 5, 6]\n",
    "print(y)"
   ]
  },
  {
   "cell_type": "code",
   "execution_count": 11,
   "id": "purple-avatar",
   "metadata": {},
   "outputs": [
    {
     "name": "stdout",
     "output_type": "stream",
     "text": [
      "0\n",
      "4\n"
     ]
    }
   ],
   "source": [
    "# In place, one item at a time\n",
    "x = [1, 2, 3]\n",
    "x.append(0)\n",
    "y = x[-1]\n",
    "z = len(x)\n",
    "print(y)\n",
    "print(z)"
   ]
  },
  {
   "cell_type": "code",
   "execution_count": 12,
   "id": "electronic-jungle",
   "metadata": {},
   "outputs": [
    {
     "name": "stdout",
     "output_type": "stream",
     "text": [
      "1\n",
      "2\n"
     ]
    }
   ],
   "source": [
    "# List unpacking\n",
    "x, y = [1, 2]\n",
    "print(x)\n",
    "print(y)"
   ]
  },
  {
   "cell_type": "code",
   "execution_count": 14,
   "id": "paperback-regulation",
   "metadata": {},
   "outputs": [
    {
     "name": "stdout",
     "output_type": "stream",
     "text": [
      "You must have the same length in both sides\n"
     ]
    }
   ],
   "source": [
    "# List unpacking\n",
    "try:\n",
    "    x, y = [1, 2, 3]\n",
    "except ValueError:\n",
    "    print('You must have the same length in both sides')"
   ]
  },
  {
   "cell_type": "code",
   "execution_count": 15,
   "id": "burning-priority",
   "metadata": {},
   "outputs": [
    {
     "name": "stdout",
     "output_type": "stream",
     "text": [
      "1\n",
      "2\n"
     ]
    }
   ],
   "source": [
    "# These are actually two variables, and a tuple\n",
    "x, y = 1, 2\n",
    "print(x)\n",
    "print(y)"
   ]
  },
  {
   "cell_type": "code",
   "execution_count": 16,
   "id": "legal-savings",
   "metadata": {},
   "outputs": [
    {
     "name": "stdout",
     "output_type": "stream",
     "text": [
      "2\n",
      "1\n"
     ]
    }
   ],
   "source": [
    "# swap variables\n",
    "x, y = y, x\n",
    "print(x)\n",
    "print(y)"
   ]
  },
  {
   "cell_type": "code",
   "execution_count": 17,
   "id": "overhead-bobby",
   "metadata": {},
   "outputs": [
    {
     "name": "stdout",
     "output_type": "stream",
     "text": [
      "Jose is the best!\n"
     ]
    }
   ],
   "source": [
    "# You can use 'in' to look inside arrays\n",
    "# or to look for keys in dictionaries\n",
    "my_dict = {'jose': 100}\n",
    "if 'x' in my_dict:\n",
    "    print('Hello!')\n",
    "\n",
    "if 'jose' in my_dict:\n",
    "    print('Jose is the best!')"
   ]
  },
  {
   "cell_type": "code",
   "execution_count": 20,
   "id": "certified-liability",
   "metadata": {},
   "outputs": [
    {
     "name": "stdout",
     "output_type": "stream",
     "text": [
      "1\n",
      "None\n"
     ]
    }
   ],
   "source": [
    "xy = my_dict.get('one', 1)\n",
    "yz = my_dict.get('nope')\n",
    "print(xy)\n",
    "print(yz)"
   ]
  },
  {
   "cell_type": "code",
   "execution_count": 21,
   "id": "attempted-saint",
   "metadata": {},
   "outputs": [
    {
     "name": "stdout",
     "output_type": "stream",
     "text": [
      "defaultdict(<class 'int'>, {'Estaba': 1, 'la': 4, 'pájara': 1, 'pinta,': 1, 'sentada': 1, 'en': 1, 'su': 1, 'verde': 1, 'limón.': 1, 'Con': 1, 'el': 1, 'pico': 1, 'recoje': 1, 'rama,': 1, 'y': 1, 'con': 1, 'rama': 1, 'recoge': 1, 'flor.': 1})\n"
     ]
    }
   ],
   "source": [
    "# defaultdict's are awesome\n",
    "from collections import defaultdict\n",
    "\n",
    "document = 'Estaba la pájara pinta, sentada en su verde limón. Con el pico recoje la rama, y con la rama recoge la flor.'\n",
    "\n",
    "word_counts = defaultdict(int)\n",
    "for word in document.split(' '):\n",
    "    word_counts[word] += 1\n",
    "\n",
    "print(word_counts)\n"
   ]
  },
  {
   "cell_type": "code",
   "execution_count": 25,
   "id": "equipped-watts",
   "metadata": {},
   "outputs": [
    {
     "name": "stdout",
     "output_type": "stream",
     "text": [
      "Counter({0: 3, 1: 2, 2: 2, 3: 1})\n",
      "Counter({'la': 4, 'Estaba': 1, 'pájara': 1, 'pinta,': 1, 'sentada': 1, 'en': 1, 'su': 1, 'verde': 1, 'limón.': 1, 'Con': 1, 'el': 1, 'pico': 1, 'recoje': 1, 'rama,': 1, 'y': 1, 'con': 1, 'rama': 1, 'recoge': 1, 'flor.': 1})\n",
      "[('la', 4), ('Estaba', 1), ('pájara', 1)]\n"
     ]
    }
   ],
   "source": [
    "# A counter turns a sequence of values into a defaultdict(int)-like object\n",
    "from collections import Counter\n",
    "c = Counter([0, 1, 2, 3, 0, 2, 0, 1])\n",
    "print(c)\n",
    "d = Counter(document.split(' '))\n",
    "print(d)\n",
    "# Three most common\n",
    "common = d.most_common(3)\n",
    "print(common)"
   ]
  },
  {
   "cell_type": "code",
   "execution_count": 26,
   "id": "unusual-artist",
   "metadata": {},
   "outputs": [
    {
     "name": "stdout",
     "output_type": "stream",
     "text": [
      "less or equal\n"
     ]
    }
   ],
   "source": [
    "# One-line ternary\n",
    "x = 2\n",
    "relation = 'greater' if x > 2 else 'less or equal'\n",
    "print(relation)"
   ]
  },
  {
   "cell_type": "code",
   "execution_count": 27,
   "id": "appreciated-granny",
   "metadata": {},
   "outputs": [
    {
     "data": {
      "text/plain": [
       "True"
      ]
     },
     "execution_count": 27,
     "metadata": {},
     "output_type": "execute_result"
    }
   ],
   "source": [
    "None is None"
   ]
  },
  {
   "cell_type": "code",
   "execution_count": 28,
   "id": "fleet-communist",
   "metadata": {},
   "outputs": [
    {
     "name": "stdout",
     "output_type": "stream",
     "text": [
      "[1, 2, 3, 4]\n"
     ]
    }
   ],
   "source": [
    "x = [4, 1, 2, 3]\n",
    "y = sorted(x)\n",
    "print(y)"
   ]
  },
  {
   "cell_type": "code",
   "execution_count": 30,
   "id": "developmental-botswana",
   "metadata": {},
   "outputs": [
    {
     "name": "stdout",
     "output_type": "stream",
     "text": [
      "[0, 2, 4]\n",
      "[0, 1, 4, 9, 16]\n"
     ]
    }
   ],
   "source": [
    "# List comprehensions are marvelous\n",
    "even_numbers = [x for x in range(5) if x % 2 == 0]\n",
    "print(even_numbers)\n",
    "squares = [x * x for x in range(5)]\n",
    "print(squares)"
   ]
  },
  {
   "cell_type": "code",
   "execution_count": 34,
   "id": "above-apparel",
   "metadata": {},
   "outputs": [
    {
     "name": "stdout",
     "output_type": "stream",
     "text": [
      "2\n"
     ]
    }
   ],
   "source": [
    "class CountingClicker:\n",
    "    \n",
    "    def __init__(self, count = 0):\n",
    "        self.count = count\n",
    "        \n",
    "    def __repr__(self):\n",
    "        return f\"CountingClicker(count={self.count})\"\n",
    "    \n",
    "    def click(self, num_times = 1):\n",
    "        \"\"\"Click the clicker some number of times\"\"\"\n",
    "        self.count += num_times\n",
    "        \n",
    "    def read(self):\n",
    "        return self.count\n",
    "    \n",
    "    def reset(self):\n",
    "        self.count = 0\n",
    "        \n",
    "\n",
    "clicker = CountingClicker()\n",
    "assert clicker.read() == 0\n",
    "clicker.click()\n",
    "clicker.click()\n",
    "print(clicker.read())\n",
    "assert clicker.read() == 2"
   ]
  },
  {
   "cell_type": "code",
   "execution_count": 36,
   "id": "prostate-concentration",
   "metadata": {},
   "outputs": [
    {
     "name": "stdout",
     "output_type": "stream",
     "text": [
      "name 0 is Alice\n",
      "name 1 is Bob\n",
      "name 2 is Charlie\n",
      "name 3 is Debbie\n"
     ]
    }
   ],
   "source": [
    "# When we want the indices of a list\n",
    "names = ['Alice', 'Bob', 'Charlie', 'Debbie']\n",
    "for i, name in enumerate(names):\n",
    "    print(f'name {i} is {name}')"
   ]
  },
  {
   "cell_type": "code",
   "execution_count": 38,
   "id": "micro-converter",
   "metadata": {},
   "outputs": [
    {
     "name": "stdout",
     "output_type": "stream",
     "text": [
      "0\n",
      "1\n",
      "2\n",
      "3\n",
      "4\n"
     ]
    }
   ],
   "source": [
    "# The yield statement suspends function’s execution and\n",
    "# sends a value back to the caller, but retains enough\n",
    "# state to enable function to resume where it is left off.\n",
    "# When resumed, the function continues execution immediately\n",
    "# after the last yield run. This allows its code to produce\n",
    "# a series of values over time, rather than computing them\n",
    "# at once and sending them back like a list.\n",
    "def generate_range(n):\n",
    "    i = 0\n",
    "    while i < n:\n",
    "        yield i\n",
    "        i += 1\n",
    "\n",
    "for i in generate_range(5):\n",
    "    print(i)"
   ]
  },
  {
   "cell_type": "code",
   "execution_count": 39,
   "id": "prompt-anime",
   "metadata": {},
   "outputs": [
    {
     "name": "stdout",
     "output_type": "stream",
     "text": [
      "[0.5714025946899135, 0.4288890546751146, 0.5780913011344704, 0.20609823213950174]\n"
     ]
    }
   ],
   "source": [
    "import random\n",
    "random.seed(10)\n",
    "four_uniform_randoms = [random.random() for _ in range(4)]\n",
    "print(four_uniform_randoms)\n",
    "# random.shuffle, random.sample and random.choice are also useful"
   ]
  },
  {
   "cell_type": "code",
   "execution_count": 63,
   "id": "minimal-reward",
   "metadata": {},
   "outputs": [
    {
     "name": "stdout",
     "output_type": "stream",
     "text": [
      "<re.Match object; span=(0, 30), match='Cats are not smarter than dogs'>\n"
     ]
    }
   ],
   "source": [
    "# Regular expressions\n",
    "import re\n",
    "# 'match' looks for the beginning, 'search' looks anywhere\n",
    "# investigate more\n",
    "matches = re.search(r'(.*) are not (.*?) .*', \"Cats are not smarter than dogs\", re.M|re.I)\n",
    "print(matches)"
   ]
  },
  {
   "cell_type": "code",
   "execution_count": 69,
   "id": "closing-compound",
   "metadata": {},
   "outputs": [
    {
     "data": {
      "text/plain": [
       "[('a', 1), ('b', 2), ('c', 3)]"
      ]
     },
     "execution_count": 69,
     "metadata": {},
     "output_type": "execute_result"
    }
   ],
   "source": [
    "# FP: Al lugar donde fueres, haréis lo que viereis\n",
    "# Contrary to JS, FP is avoided in Python\n",
    "list1 = ['a', 'b', 'c']\n",
    "list2 = [1, 2, 3]\n",
    "[pair for pair in zip(list1, list2)]"
   ]
  },
  {
   "cell_type": "code",
   "execution_count": 72,
   "id": "meaning-radius",
   "metadata": {},
   "outputs": [
    {
     "name": "stdout",
     "output_type": "stream",
     "text": [
      "('a', 'b', 'c')\n",
      "(1, 2, 3)\n"
     ]
    }
   ],
   "source": [
    "pairs = [('a', 1), ('b', 2), ('c', 3)]\n",
    "letters, numbers = zip(*pairs)\n",
    "print(letters)\n",
    "print(numbers)"
   ]
  },
  {
   "cell_type": "code",
   "execution_count": 73,
   "id": "rising-framework",
   "metadata": {},
   "outputs": [
    {
     "name": "stdout",
     "output_type": "stream",
     "text": [
      "3\n"
     ]
    }
   ],
   "source": [
    "# To understand the previous cell\n",
    "def add(a, b): return a + b\n",
    "print(add(*[1, 2]))"
   ]
  },
  {
   "cell_type": "code",
   "execution_count": 78,
   "id": "stretch-highway",
   "metadata": {},
   "outputs": [
    {
     "name": "stdout",
     "output_type": "stream",
     "text": [
      "6\n",
      "15\n",
      "5\n",
      "None\n",
      "{'data': 1, 'science': 2}\n"
     ]
    }
   ],
   "source": [
    "# Type anotations are good\n",
    "from typing import List, Optional, Dict\n",
    "\n",
    "# you can use\n",
    "def total(xs: list) -> float:\n",
    "    return sum(xs)\n",
    "print(total([1, 2, 3]))\n",
    "\n",
    "# But it's better to be more specific\n",
    "def total(xs: List[float]) -> float:\n",
    "    return sum(xs)\n",
    "print(total([4, 5, 6]))\n",
    "\n",
    "# We can even type anotate variables\n",
    "x: int = 5\n",
    "best_so_far: Optional[float] = None # Allows float or None\n",
    "counts: Dict[str, int] = {'data': 1, 'science': 2}\n",
    "print(x)\n",
    "print(best_so_far)\n",
    "print(counts)"
   ]
  },
  {
   "cell_type": "code",
   "execution_count": null,
   "id": "incorrect-showcase",
   "metadata": {},
   "outputs": [],
   "source": []
  }
 ],
 "metadata": {
  "kernelspec": {
   "display_name": "Python 3",
   "language": "python",
   "name": "python3"
  },
  "language_info": {
   "codemirror_mode": {
    "name": "ipython",
    "version": 3
   },
   "file_extension": ".py",
   "mimetype": "text/x-python",
   "name": "python",
   "nbconvert_exporter": "python",
   "pygments_lexer": "ipython3",
   "version": "3.8.2"
  }
 },
 "nbformat": 4,
 "nbformat_minor": 5
}
