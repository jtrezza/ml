{
 "cells": [
  {
   "cell_type": "code",
   "execution_count": 4,
   "id": "dutch-carry",
   "metadata": {},
   "outputs": [],
   "source": [
    "from typing import List\n",
    "Vector = List[float]\n",
    "\n",
    "height_weight_age = [70, 170, 40]\n",
    "grades = [95, 80, 75, 62]\n",
    "\n",
    "# We are only allowed to add two vectors\n",
    "# if they are the same length\n",
    "# [1, 2] + [2, 1] = [3, 3]\n",
    "\n",
    "def add(v: Vector, w: Vector) -> Vector:\n",
    "    assert len(v) == len(w), 'Vectors must be the same length'\n",
    "\n",
    "    return [v_i + w_i for v_i, w_i in zip(v, w)]\n",
    "\n",
    "assert(add([1, 2, 3], [4, 5, 6]) == [5, 7, 9])"
   ]
  },
  {
   "cell_type": "code",
   "execution_count": 6,
   "id": "female-officer",
   "metadata": {},
   "outputs": [],
   "source": [
    "def subtract(v: Vector, w: Vector) -> Vector:\n",
    "    assert len(v) == len(w), 'Vectors must be the same length'\n",
    "\n",
    "    return [v_i - w_i for v_i, w_i in zip(v, w)]\n",
    "\n",
    "assert(subtract([5, 7, 9], [4, 5, 6]) == [1, 2, 3])"
   ]
  },
  {
   "cell_type": "code",
   "execution_count": 7,
   "id": "secret-acquisition",
   "metadata": {},
   "outputs": [],
   "source": [
    "def vector_sum(vectors: List[Vector]) -> Vector:\n",
    "    assert vectors, 'No vectors provided!'\n",
    "    \n",
    "    num_elements = len(vectors[0])\n",
    "    assert all(len(v) == num_elements for v in vectors), 'Different sizes!'\n",
    "\n",
    "    return [sum(vector[i] for vector in vectors)\n",
    "               for i in range(num_elements)]\n",
    "\n",
    "assert vector_sum([[1, 2], [3, 4], [5, 6], [7, 8]]) == [16, 20]"
   ]
  },
  {
   "cell_type": "code",
   "execution_count": null,
   "id": "bibliographic-occasions",
   "metadata": {},
   "outputs": [],
   "source": []
  }
 ],
 "metadata": {
  "kernelspec": {
   "display_name": "Python 3",
   "language": "python",
   "name": "python3"
  },
  "language_info": {
   "codemirror_mode": {
    "name": "ipython",
    "version": 3
   },
   "file_extension": ".py",
   "mimetype": "text/x-python",
   "name": "python",
   "nbconvert_exporter": "python",
   "pygments_lexer": "ipython3",
   "version": "3.8.2"
  }
 },
 "nbformat": 4,
 "nbformat_minor": 5
}
